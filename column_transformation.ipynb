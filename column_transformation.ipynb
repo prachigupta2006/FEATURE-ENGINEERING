{
  "nbformat": 4,
  "nbformat_minor": 0,
  "metadata": {
    "colab": {
      "provenance": [],
      "authorship_tag": "ABX9TyM+pBPcHqaGt65QPw/uhvTy",
      "include_colab_link": true
    },
    "kernelspec": {
      "name": "python3",
      "display_name": "Python 3"
    },
    "language_info": {
      "name": "python"
    }
  },
  "cells": [
    {
      "cell_type": "markdown",
      "metadata": {
        "id": "view-in-github",
        "colab_type": "text"
      },
      "source": [
        "<a href=\"https://colab.research.google.com/github/prachigupta2006/feature-engineering/blob/main/column_transformation.ipynb\" target=\"_parent\"><img src=\"https://colab.research.google.com/assets/colab-badge.svg\" alt=\"Open In Colab\"/></a>"
      ]
    },
    {
      "cell_type": "code",
      "execution_count": 1,
      "metadata": {
        "id": "PUcTIEC-PXjf"
      },
      "outputs": [],
      "source": [
        "import numpy as np\n",
        "import pandas as pd"
      ]
    },
    {
      "cell_type": "code",
      "source": [
        "from sklearn.impute import SimpleImputer\n",
        "from sklearn.preprocessing import OneHotEncoder\n",
        "from sklearn.preprocessing import OrdinalEncoder"
      ],
      "metadata": {
        "id": "-pKmsc8XPqG2"
      },
      "execution_count": 2,
      "outputs": []
    },
    {
      "cell_type": "code",
      "source": [
        "from google.colab import files\n",
        "uploaded = files.upload()"
      ],
      "metadata": {
        "colab": {
          "base_uri": "https://localhost:8080/",
          "height": 73
        },
        "id": "LZyy0y5uPqck",
        "outputId": "910f1c53-67db-46ee-e808-e9a81f7745d1"
      },
      "execution_count": 3,
      "outputs": [
        {
          "output_type": "display_data",
          "data": {
            "text/plain": [
              "<IPython.core.display.HTML object>"
            ],
            "text/html": [
              "\n",
              "     <input type=\"file\" id=\"files-330e088e-b530-4958-bc74-3e32c04df97a\" name=\"files[]\" multiple disabled\n",
              "        style=\"border:none\" />\n",
              "     <output id=\"result-330e088e-b530-4958-bc74-3e32c04df97a\">\n",
              "      Upload widget is only available when the cell has been executed in the\n",
              "      current browser session. Please rerun this cell to enable.\n",
              "      </output>\n",
              "      <script>// Copyright 2017 Google LLC\n",
              "//\n",
              "// Licensed under the Apache License, Version 2.0 (the \"License\");\n",
              "// you may not use this file except in compliance with the License.\n",
              "// You may obtain a copy of the License at\n",
              "//\n",
              "//      http://www.apache.org/licenses/LICENSE-2.0\n",
              "//\n",
              "// Unless required by applicable law or agreed to in writing, software\n",
              "// distributed under the License is distributed on an \"AS IS\" BASIS,\n",
              "// WITHOUT WARRANTIES OR CONDITIONS OF ANY KIND, either express or implied.\n",
              "// See the License for the specific language governing permissions and\n",
              "// limitations under the License.\n",
              "\n",
              "/**\n",
              " * @fileoverview Helpers for google.colab Python module.\n",
              " */\n",
              "(function(scope) {\n",
              "function span(text, styleAttributes = {}) {\n",
              "  const element = document.createElement('span');\n",
              "  element.textContent = text;\n",
              "  for (const key of Object.keys(styleAttributes)) {\n",
              "    element.style[key] = styleAttributes[key];\n",
              "  }\n",
              "  return element;\n",
              "}\n",
              "\n",
              "// Max number of bytes which will be uploaded at a time.\n",
              "const MAX_PAYLOAD_SIZE = 100 * 1024;\n",
              "\n",
              "function _uploadFiles(inputId, outputId) {\n",
              "  const steps = uploadFilesStep(inputId, outputId);\n",
              "  const outputElement = document.getElementById(outputId);\n",
              "  // Cache steps on the outputElement to make it available for the next call\n",
              "  // to uploadFilesContinue from Python.\n",
              "  outputElement.steps = steps;\n",
              "\n",
              "  return _uploadFilesContinue(outputId);\n",
              "}\n",
              "\n",
              "// This is roughly an async generator (not supported in the browser yet),\n",
              "// where there are multiple asynchronous steps and the Python side is going\n",
              "// to poll for completion of each step.\n",
              "// This uses a Promise to block the python side on completion of each step,\n",
              "// then passes the result of the previous step as the input to the next step.\n",
              "function _uploadFilesContinue(outputId) {\n",
              "  const outputElement = document.getElementById(outputId);\n",
              "  const steps = outputElement.steps;\n",
              "\n",
              "  const next = steps.next(outputElement.lastPromiseValue);\n",
              "  return Promise.resolve(next.value.promise).then((value) => {\n",
              "    // Cache the last promise value to make it available to the next\n",
              "    // step of the generator.\n",
              "    outputElement.lastPromiseValue = value;\n",
              "    return next.value.response;\n",
              "  });\n",
              "}\n",
              "\n",
              "/**\n",
              " * Generator function which is called between each async step of the upload\n",
              " * process.\n",
              " * @param {string} inputId Element ID of the input file picker element.\n",
              " * @param {string} outputId Element ID of the output display.\n",
              " * @return {!Iterable<!Object>} Iterable of next steps.\n",
              " */\n",
              "function* uploadFilesStep(inputId, outputId) {\n",
              "  const inputElement = document.getElementById(inputId);\n",
              "  inputElement.disabled = false;\n",
              "\n",
              "  const outputElement = document.getElementById(outputId);\n",
              "  outputElement.innerHTML = '';\n",
              "\n",
              "  const pickedPromise = new Promise((resolve) => {\n",
              "    inputElement.addEventListener('change', (e) => {\n",
              "      resolve(e.target.files);\n",
              "    });\n",
              "  });\n",
              "\n",
              "  const cancel = document.createElement('button');\n",
              "  inputElement.parentElement.appendChild(cancel);\n",
              "  cancel.textContent = 'Cancel upload';\n",
              "  const cancelPromise = new Promise((resolve) => {\n",
              "    cancel.onclick = () => {\n",
              "      resolve(null);\n",
              "    };\n",
              "  });\n",
              "\n",
              "  // Wait for the user to pick the files.\n",
              "  const files = yield {\n",
              "    promise: Promise.race([pickedPromise, cancelPromise]),\n",
              "    response: {\n",
              "      action: 'starting',\n",
              "    }\n",
              "  };\n",
              "\n",
              "  cancel.remove();\n",
              "\n",
              "  // Disable the input element since further picks are not allowed.\n",
              "  inputElement.disabled = true;\n",
              "\n",
              "  if (!files) {\n",
              "    return {\n",
              "      response: {\n",
              "        action: 'complete',\n",
              "      }\n",
              "    };\n",
              "  }\n",
              "\n",
              "  for (const file of files) {\n",
              "    const li = document.createElement('li');\n",
              "    li.append(span(file.name, {fontWeight: 'bold'}));\n",
              "    li.append(span(\n",
              "        `(${file.type || 'n/a'}) - ${file.size} bytes, ` +\n",
              "        `last modified: ${\n",
              "            file.lastModifiedDate ? file.lastModifiedDate.toLocaleDateString() :\n",
              "                                    'n/a'} - `));\n",
              "    const percent = span('0% done');\n",
              "    li.appendChild(percent);\n",
              "\n",
              "    outputElement.appendChild(li);\n",
              "\n",
              "    const fileDataPromise = new Promise((resolve) => {\n",
              "      const reader = new FileReader();\n",
              "      reader.onload = (e) => {\n",
              "        resolve(e.target.result);\n",
              "      };\n",
              "      reader.readAsArrayBuffer(file);\n",
              "    });\n",
              "    // Wait for the data to be ready.\n",
              "    let fileData = yield {\n",
              "      promise: fileDataPromise,\n",
              "      response: {\n",
              "        action: 'continue',\n",
              "      }\n",
              "    };\n",
              "\n",
              "    // Use a chunked sending to avoid message size limits. See b/62115660.\n",
              "    let position = 0;\n",
              "    do {\n",
              "      const length = Math.min(fileData.byteLength - position, MAX_PAYLOAD_SIZE);\n",
              "      const chunk = new Uint8Array(fileData, position, length);\n",
              "      position += length;\n",
              "\n",
              "      const base64 = btoa(String.fromCharCode.apply(null, chunk));\n",
              "      yield {\n",
              "        response: {\n",
              "          action: 'append',\n",
              "          file: file.name,\n",
              "          data: base64,\n",
              "        },\n",
              "      };\n",
              "\n",
              "      let percentDone = fileData.byteLength === 0 ?\n",
              "          100 :\n",
              "          Math.round((position / fileData.byteLength) * 100);\n",
              "      percent.textContent = `${percentDone}% done`;\n",
              "\n",
              "    } while (position < fileData.byteLength);\n",
              "  }\n",
              "\n",
              "  // All done.\n",
              "  yield {\n",
              "    response: {\n",
              "      action: 'complete',\n",
              "    }\n",
              "  };\n",
              "}\n",
              "\n",
              "scope.google = scope.google || {};\n",
              "scope.google.colab = scope.google.colab || {};\n",
              "scope.google.colab._files = {\n",
              "  _uploadFiles,\n",
              "  _uploadFilesContinue,\n",
              "};\n",
              "})(self);\n",
              "</script> "
            ]
          },
          "metadata": {}
        },
        {
          "output_type": "stream",
          "name": "stdout",
          "text": [
            "Saving covid_toy.csv to covid_toy.csv\n"
          ]
        }
      ]
    },
    {
      "cell_type": "code",
      "source": [
        "df= pd.read_csv('covid_toy.csv')\n",
        "df.head()"
      ],
      "metadata": {
        "colab": {
          "base_uri": "https://localhost:8080/",
          "height": 206
        },
        "id": "45GwGjViPsyo",
        "outputId": "3c8f8359-193e-4573-8170-8109f1925f94"
      },
      "execution_count": 4,
      "outputs": [
        {
          "output_type": "execute_result",
          "data": {
            "text/plain": [
              "   age  gender  fever cough     city has_covid\n",
              "0   60    Male  103.0  Mild  Kolkata        No\n",
              "1   27    Male  100.0  Mild    Delhi       Yes\n",
              "2   42    Male  101.0  Mild    Delhi        No\n",
              "3   31  Female   98.0  Mild  Kolkata        No\n",
              "4   65  Female  101.0  Mild   Mumbai        No"
            ],
            "text/html": [
              "\n",
              "  <div id=\"df-56f092a2-efae-4d75-8837-ec61106d1f49\" class=\"colab-df-container\">\n",
              "    <div>\n",
              "<style scoped>\n",
              "    .dataframe tbody tr th:only-of-type {\n",
              "        vertical-align: middle;\n",
              "    }\n",
              "\n",
              "    .dataframe tbody tr th {\n",
              "        vertical-align: top;\n",
              "    }\n",
              "\n",
              "    .dataframe thead th {\n",
              "        text-align: right;\n",
              "    }\n",
              "</style>\n",
              "<table border=\"1\" class=\"dataframe\">\n",
              "  <thead>\n",
              "    <tr style=\"text-align: right;\">\n",
              "      <th></th>\n",
              "      <th>age</th>\n",
              "      <th>gender</th>\n",
              "      <th>fever</th>\n",
              "      <th>cough</th>\n",
              "      <th>city</th>\n",
              "      <th>has_covid</th>\n",
              "    </tr>\n",
              "  </thead>\n",
              "  <tbody>\n",
              "    <tr>\n",
              "      <th>0</th>\n",
              "      <td>60</td>\n",
              "      <td>Male</td>\n",
              "      <td>103.0</td>\n",
              "      <td>Mild</td>\n",
              "      <td>Kolkata</td>\n",
              "      <td>No</td>\n",
              "    </tr>\n",
              "    <tr>\n",
              "      <th>1</th>\n",
              "      <td>27</td>\n",
              "      <td>Male</td>\n",
              "      <td>100.0</td>\n",
              "      <td>Mild</td>\n",
              "      <td>Delhi</td>\n",
              "      <td>Yes</td>\n",
              "    </tr>\n",
              "    <tr>\n",
              "      <th>2</th>\n",
              "      <td>42</td>\n",
              "      <td>Male</td>\n",
              "      <td>101.0</td>\n",
              "      <td>Mild</td>\n",
              "      <td>Delhi</td>\n",
              "      <td>No</td>\n",
              "    </tr>\n",
              "    <tr>\n",
              "      <th>3</th>\n",
              "      <td>31</td>\n",
              "      <td>Female</td>\n",
              "      <td>98.0</td>\n",
              "      <td>Mild</td>\n",
              "      <td>Kolkata</td>\n",
              "      <td>No</td>\n",
              "    </tr>\n",
              "    <tr>\n",
              "      <th>4</th>\n",
              "      <td>65</td>\n",
              "      <td>Female</td>\n",
              "      <td>101.0</td>\n",
              "      <td>Mild</td>\n",
              "      <td>Mumbai</td>\n",
              "      <td>No</td>\n",
              "    </tr>\n",
              "  </tbody>\n",
              "</table>\n",
              "</div>\n",
              "    <div class=\"colab-df-buttons\">\n",
              "\n",
              "  <div class=\"colab-df-container\">\n",
              "    <button class=\"colab-df-convert\" onclick=\"convertToInteractive('df-56f092a2-efae-4d75-8837-ec61106d1f49')\"\n",
              "            title=\"Convert this dataframe to an interactive table.\"\n",
              "            style=\"display:none;\">\n",
              "\n",
              "  <svg xmlns=\"http://www.w3.org/2000/svg\" height=\"24px\" viewBox=\"0 -960 960 960\">\n",
              "    <path d=\"M120-120v-720h720v720H120Zm60-500h600v-160H180v160Zm220 220h160v-160H400v160Zm0 220h160v-160H400v160ZM180-400h160v-160H180v160Zm440 0h160v-160H620v160ZM180-180h160v-160H180v160Zm440 0h160v-160H620v160Z\"/>\n",
              "  </svg>\n",
              "    </button>\n",
              "\n",
              "  <style>\n",
              "    .colab-df-container {\n",
              "      display:flex;\n",
              "      gap: 12px;\n",
              "    }\n",
              "\n",
              "    .colab-df-convert {\n",
              "      background-color: #E8F0FE;\n",
              "      border: none;\n",
              "      border-radius: 50%;\n",
              "      cursor: pointer;\n",
              "      display: none;\n",
              "      fill: #1967D2;\n",
              "      height: 32px;\n",
              "      padding: 0 0 0 0;\n",
              "      width: 32px;\n",
              "    }\n",
              "\n",
              "    .colab-df-convert:hover {\n",
              "      background-color: #E2EBFA;\n",
              "      box-shadow: 0px 1px 2px rgba(60, 64, 67, 0.3), 0px 1px 3px 1px rgba(60, 64, 67, 0.15);\n",
              "      fill: #174EA6;\n",
              "    }\n",
              "\n",
              "    .colab-df-buttons div {\n",
              "      margin-bottom: 4px;\n",
              "    }\n",
              "\n",
              "    [theme=dark] .colab-df-convert {\n",
              "      background-color: #3B4455;\n",
              "      fill: #D2E3FC;\n",
              "    }\n",
              "\n",
              "    [theme=dark] .colab-df-convert:hover {\n",
              "      background-color: #434B5C;\n",
              "      box-shadow: 0px 1px 3px 1px rgba(0, 0, 0, 0.15);\n",
              "      filter: drop-shadow(0px 1px 2px rgba(0, 0, 0, 0.3));\n",
              "      fill: #FFFFFF;\n",
              "    }\n",
              "  </style>\n",
              "\n",
              "    <script>\n",
              "      const buttonEl =\n",
              "        document.querySelector('#df-56f092a2-efae-4d75-8837-ec61106d1f49 button.colab-df-convert');\n",
              "      buttonEl.style.display =\n",
              "        google.colab.kernel.accessAllowed ? 'block' : 'none';\n",
              "\n",
              "      async function convertToInteractive(key) {\n",
              "        const element = document.querySelector('#df-56f092a2-efae-4d75-8837-ec61106d1f49');\n",
              "        const dataTable =\n",
              "          await google.colab.kernel.invokeFunction('convertToInteractive',\n",
              "                                                    [key], {});\n",
              "        if (!dataTable) return;\n",
              "\n",
              "        const docLinkHtml = 'Like what you see? Visit the ' +\n",
              "          '<a target=\"_blank\" href=https://colab.research.google.com/notebooks/data_table.ipynb>data table notebook</a>'\n",
              "          + ' to learn more about interactive tables.';\n",
              "        element.innerHTML = '';\n",
              "        dataTable['output_type'] = 'display_data';\n",
              "        await google.colab.output.renderOutput(dataTable, element);\n",
              "        const docLink = document.createElement('div');\n",
              "        docLink.innerHTML = docLinkHtml;\n",
              "        element.appendChild(docLink);\n",
              "      }\n",
              "    </script>\n",
              "  </div>\n",
              "\n",
              "\n",
              "<div id=\"df-bd1593c0-72c2-4807-bed8-3611ba359b19\">\n",
              "  <button class=\"colab-df-quickchart\" onclick=\"quickchart('df-bd1593c0-72c2-4807-bed8-3611ba359b19')\"\n",
              "            title=\"Suggest charts\"\n",
              "            style=\"display:none;\">\n",
              "\n",
              "<svg xmlns=\"http://www.w3.org/2000/svg\" height=\"24px\"viewBox=\"0 0 24 24\"\n",
              "     width=\"24px\">\n",
              "    <g>\n",
              "        <path d=\"M19 3H5c-1.1 0-2 .9-2 2v14c0 1.1.9 2 2 2h14c1.1 0 2-.9 2-2V5c0-1.1-.9-2-2-2zM9 17H7v-7h2v7zm4 0h-2V7h2v10zm4 0h-2v-4h2v4z\"/>\n",
              "    </g>\n",
              "</svg>\n",
              "  </button>\n",
              "\n",
              "<style>\n",
              "  .colab-df-quickchart {\n",
              "      --bg-color: #E8F0FE;\n",
              "      --fill-color: #1967D2;\n",
              "      --hover-bg-color: #E2EBFA;\n",
              "      --hover-fill-color: #174EA6;\n",
              "      --disabled-fill-color: #AAA;\n",
              "      --disabled-bg-color: #DDD;\n",
              "  }\n",
              "\n",
              "  [theme=dark] .colab-df-quickchart {\n",
              "      --bg-color: #3B4455;\n",
              "      --fill-color: #D2E3FC;\n",
              "      --hover-bg-color: #434B5C;\n",
              "      --hover-fill-color: #FFFFFF;\n",
              "      --disabled-bg-color: #3B4455;\n",
              "      --disabled-fill-color: #666;\n",
              "  }\n",
              "\n",
              "  .colab-df-quickchart {\n",
              "    background-color: var(--bg-color);\n",
              "    border: none;\n",
              "    border-radius: 50%;\n",
              "    cursor: pointer;\n",
              "    display: none;\n",
              "    fill: var(--fill-color);\n",
              "    height: 32px;\n",
              "    padding: 0;\n",
              "    width: 32px;\n",
              "  }\n",
              "\n",
              "  .colab-df-quickchart:hover {\n",
              "    background-color: var(--hover-bg-color);\n",
              "    box-shadow: 0 1px 2px rgba(60, 64, 67, 0.3), 0 1px 3px 1px rgba(60, 64, 67, 0.15);\n",
              "    fill: var(--button-hover-fill-color);\n",
              "  }\n",
              "\n",
              "  .colab-df-quickchart-complete:disabled,\n",
              "  .colab-df-quickchart-complete:disabled:hover {\n",
              "    background-color: var(--disabled-bg-color);\n",
              "    fill: var(--disabled-fill-color);\n",
              "    box-shadow: none;\n",
              "  }\n",
              "\n",
              "  .colab-df-spinner {\n",
              "    border: 2px solid var(--fill-color);\n",
              "    border-color: transparent;\n",
              "    border-bottom-color: var(--fill-color);\n",
              "    animation:\n",
              "      spin 1s steps(1) infinite;\n",
              "  }\n",
              "\n",
              "  @keyframes spin {\n",
              "    0% {\n",
              "      border-color: transparent;\n",
              "      border-bottom-color: var(--fill-color);\n",
              "      border-left-color: var(--fill-color);\n",
              "    }\n",
              "    20% {\n",
              "      border-color: transparent;\n",
              "      border-left-color: var(--fill-color);\n",
              "      border-top-color: var(--fill-color);\n",
              "    }\n",
              "    30% {\n",
              "      border-color: transparent;\n",
              "      border-left-color: var(--fill-color);\n",
              "      border-top-color: var(--fill-color);\n",
              "      border-right-color: var(--fill-color);\n",
              "    }\n",
              "    40% {\n",
              "      border-color: transparent;\n",
              "      border-right-color: var(--fill-color);\n",
              "      border-top-color: var(--fill-color);\n",
              "    }\n",
              "    60% {\n",
              "      border-color: transparent;\n",
              "      border-right-color: var(--fill-color);\n",
              "    }\n",
              "    80% {\n",
              "      border-color: transparent;\n",
              "      border-right-color: var(--fill-color);\n",
              "      border-bottom-color: var(--fill-color);\n",
              "    }\n",
              "    90% {\n",
              "      border-color: transparent;\n",
              "      border-bottom-color: var(--fill-color);\n",
              "    }\n",
              "  }\n",
              "</style>\n",
              "\n",
              "  <script>\n",
              "    async function quickchart(key) {\n",
              "      const quickchartButtonEl =\n",
              "        document.querySelector('#' + key + ' button');\n",
              "      quickchartButtonEl.disabled = true;  // To prevent multiple clicks.\n",
              "      quickchartButtonEl.classList.add('colab-df-spinner');\n",
              "      try {\n",
              "        const charts = await google.colab.kernel.invokeFunction(\n",
              "            'suggestCharts', [key], {});\n",
              "      } catch (error) {\n",
              "        console.error('Error during call to suggestCharts:', error);\n",
              "      }\n",
              "      quickchartButtonEl.classList.remove('colab-df-spinner');\n",
              "      quickchartButtonEl.classList.add('colab-df-quickchart-complete');\n",
              "    }\n",
              "    (() => {\n",
              "      let quickchartButtonEl =\n",
              "        document.querySelector('#df-bd1593c0-72c2-4807-bed8-3611ba359b19 button');\n",
              "      quickchartButtonEl.style.display =\n",
              "        google.colab.kernel.accessAllowed ? 'block' : 'none';\n",
              "    })();\n",
              "  </script>\n",
              "</div>\n",
              "\n",
              "    </div>\n",
              "  </div>\n"
            ],
            "application/vnd.google.colaboratory.intrinsic+json": {
              "type": "dataframe",
              "variable_name": "df",
              "summary": "{\n  \"name\": \"df\",\n  \"rows\": 100,\n  \"fields\": [\n    {\n      \"column\": \"age\",\n      \"properties\": {\n        \"dtype\": \"number\",\n        \"std\": 24,\n        \"min\": 5,\n        \"max\": 84,\n        \"num_unique_values\": 55,\n        \"samples\": [\n          55,\n          84,\n          49\n        ],\n        \"semantic_type\": \"\",\n        \"description\": \"\"\n      }\n    },\n    {\n      \"column\": \"gender\",\n      \"properties\": {\n        \"dtype\": \"category\",\n        \"num_unique_values\": 2,\n        \"samples\": [\n          \"Female\",\n          \"Male\"\n        ],\n        \"semantic_type\": \"\",\n        \"description\": \"\"\n      }\n    },\n    {\n      \"column\": \"fever\",\n      \"properties\": {\n        \"dtype\": \"number\",\n        \"std\": 2.0549261782367014,\n        \"min\": 98.0,\n        \"max\": 104.0,\n        \"num_unique_values\": 7,\n        \"samples\": [\n          103.0,\n          100.0\n        ],\n        \"semantic_type\": \"\",\n        \"description\": \"\"\n      }\n    },\n    {\n      \"column\": \"cough\",\n      \"properties\": {\n        \"dtype\": \"category\",\n        \"num_unique_values\": 2,\n        \"samples\": [\n          \"Strong\",\n          \"Mild\"\n        ],\n        \"semantic_type\": \"\",\n        \"description\": \"\"\n      }\n    },\n    {\n      \"column\": \"city\",\n      \"properties\": {\n        \"dtype\": \"category\",\n        \"num_unique_values\": 4,\n        \"samples\": [\n          \"Delhi\",\n          \"Bangalore\"\n        ],\n        \"semantic_type\": \"\",\n        \"description\": \"\"\n      }\n    },\n    {\n      \"column\": \"has_covid\",\n      \"properties\": {\n        \"dtype\": \"category\",\n        \"num_unique_values\": 2,\n        \"samples\": [\n          \"Yes\",\n          \"No\"\n        ],\n        \"semantic_type\": \"\",\n        \"description\": \"\"\n      }\n    }\n  ]\n}"
            }
          },
          "metadata": {},
          "execution_count": 4
        }
      ]
    },
    {
      "cell_type": "code",
      "source": [
        "df['cough'].value_counts()"
      ],
      "metadata": {
        "colab": {
          "base_uri": "https://localhost:8080/",
          "height": 178
        },
        "id": "NPKIU1yAPzdB",
        "outputId": "04fd7097-5f55-45fd-9eb1-68be4cce3da1"
      },
      "execution_count": 6,
      "outputs": [
        {
          "output_type": "execute_result",
          "data": {
            "text/plain": [
              "cough\n",
              "Mild      62\n",
              "Strong    38\n",
              "Name: count, dtype: int64"
            ],
            "text/html": [
              "<div>\n",
              "<style scoped>\n",
              "    .dataframe tbody tr th:only-of-type {\n",
              "        vertical-align: middle;\n",
              "    }\n",
              "\n",
              "    .dataframe tbody tr th {\n",
              "        vertical-align: top;\n",
              "    }\n",
              "\n",
              "    .dataframe thead th {\n",
              "        text-align: right;\n",
              "    }\n",
              "</style>\n",
              "<table border=\"1\" class=\"dataframe\">\n",
              "  <thead>\n",
              "    <tr style=\"text-align: right;\">\n",
              "      <th></th>\n",
              "      <th>count</th>\n",
              "    </tr>\n",
              "    <tr>\n",
              "      <th>cough</th>\n",
              "      <th></th>\n",
              "    </tr>\n",
              "  </thead>\n",
              "  <tbody>\n",
              "    <tr>\n",
              "      <th>Mild</th>\n",
              "      <td>62</td>\n",
              "    </tr>\n",
              "    <tr>\n",
              "      <th>Strong</th>\n",
              "      <td>38</td>\n",
              "    </tr>\n",
              "  </tbody>\n",
              "</table>\n",
              "</div><br><label><b>dtype:</b> int64</label>"
            ]
          },
          "metadata": {},
          "execution_count": 6
        }
      ]
    },
    {
      "cell_type": "code",
      "source": [
        "df.isnull().sum()"
      ],
      "metadata": {
        "colab": {
          "base_uri": "https://localhost:8080/",
          "height": 272
        },
        "id": "FtTYMeKGQCPK",
        "outputId": "54b6d82e-2c4b-4991-9328-27f454b6c952"
      },
      "execution_count": 7,
      "outputs": [
        {
          "output_type": "execute_result",
          "data": {
            "text/plain": [
              "age           0\n",
              "gender        0\n",
              "fever        10\n",
              "cough         0\n",
              "city          0\n",
              "has_covid     0\n",
              "dtype: int64"
            ],
            "text/html": [
              "<div>\n",
              "<style scoped>\n",
              "    .dataframe tbody tr th:only-of-type {\n",
              "        vertical-align: middle;\n",
              "    }\n",
              "\n",
              "    .dataframe tbody tr th {\n",
              "        vertical-align: top;\n",
              "    }\n",
              "\n",
              "    .dataframe thead th {\n",
              "        text-align: right;\n",
              "    }\n",
              "</style>\n",
              "<table border=\"1\" class=\"dataframe\">\n",
              "  <thead>\n",
              "    <tr style=\"text-align: right;\">\n",
              "      <th></th>\n",
              "      <th>0</th>\n",
              "    </tr>\n",
              "  </thead>\n",
              "  <tbody>\n",
              "    <tr>\n",
              "      <th>age</th>\n",
              "      <td>0</td>\n",
              "    </tr>\n",
              "    <tr>\n",
              "      <th>gender</th>\n",
              "      <td>0</td>\n",
              "    </tr>\n",
              "    <tr>\n",
              "      <th>fever</th>\n",
              "      <td>10</td>\n",
              "    </tr>\n",
              "    <tr>\n",
              "      <th>cough</th>\n",
              "      <td>0</td>\n",
              "    </tr>\n",
              "    <tr>\n",
              "      <th>city</th>\n",
              "      <td>0</td>\n",
              "    </tr>\n",
              "    <tr>\n",
              "      <th>has_covid</th>\n",
              "      <td>0</td>\n",
              "    </tr>\n",
              "  </tbody>\n",
              "</table>\n",
              "</div><br><label><b>dtype:</b> int64</label>"
            ]
          },
          "metadata": {},
          "execution_count": 7
        }
      ]
    },
    {
      "cell_type": "code",
      "source": [
        "from sklearn.model_selection import train_test_split\n",
        "X_train,X_test,y_train,y_test = train_test_split(df.drop(columns=['has_covid']),df['has_covid'],test_size=0.2)"
      ],
      "metadata": {
        "id": "6GbEvcU4Wtks"
      },
      "execution_count": 8,
      "outputs": []
    },
    {
      "cell_type": "markdown",
      "source": [
        "# WITHOUT COLUMN TRANSFORMATION"
      ],
      "metadata": {
        "id": "2Prdj651Xv3E"
      }
    },
    {
      "cell_type": "markdown",
      "source": [
        "simple imputation"
      ],
      "metadata": {
        "id": "OIlIKVWTYuqM"
      }
    },
    {
      "cell_type": "code",
      "source": [],
      "metadata": {
        "id": "i-2g8Bb8YtUV"
      },
      "execution_count": null,
      "outputs": []
    },
    {
      "cell_type": "code",
      "source": [
        "si=SimpleImputer()\n",
        "X_train_fever=si.fit_transform(X_train[['fever']])\n",
        "X_test_fever=si.fit_transform(X_test[['fever']])"
      ],
      "metadata": {
        "id": "yG0_tTTyX5K5"
      },
      "execution_count": 9,
      "outputs": []
    },
    {
      "cell_type": "markdown",
      "source": [
        "adding simple imputer to the fever column and also test the data"
      ],
      "metadata": {
        "id": "XorrVkdYYLlE"
      }
    },
    {
      "cell_type": "code",
      "source": [
        "X_train_fever.shape"
      ],
      "metadata": {
        "colab": {
          "base_uri": "https://localhost:8080/"
        },
        "id": "cpyk2zlZX5pC",
        "outputId": "76cb70f7-c9ab-4cbe-8e76-55c91ad66287"
      },
      "execution_count": 10,
      "outputs": [
        {
          "output_type": "execute_result",
          "data": {
            "text/plain": [
              "(80, 1)"
            ]
          },
          "metadata": {},
          "execution_count": 10
        }
      ]
    },
    {
      "cell_type": "markdown",
      "source": [
        "ordinal encoding"
      ],
      "metadata": {
        "id": "NkfJ-8OAYwyY"
      }
    },
    {
      "cell_type": "code",
      "source": [
        "oe=OrdinalEncoder(categories=[['Mild','Strong']])\n",
        "X_train_cough=oe.fit_transform(X_train[['cough']])\n",
        "X_test_cough=oe.fit_transform(X_test[['cough']])\n",
        "X_train_cough.shape"
      ],
      "metadata": {
        "colab": {
          "base_uri": "https://localhost:8080/"
        },
        "id": "hNYEssFjZNkP",
        "outputId": "3395bcc3-7335-4aac-f3df-5c98383dd906"
      },
      "execution_count": 15,
      "outputs": [
        {
          "output_type": "execute_result",
          "data": {
            "text/plain": [
              "(80, 1)"
            ]
          },
          "metadata": {},
          "execution_count": 15
        }
      ]
    },
    {
      "cell_type": "markdown",
      "source": [
        "OneHotEncoding"
      ],
      "metadata": {
        "id": "7iI6yn2NZTUo"
      }
    },
    {
      "cell_type": "code",
      "source": [
        "ohe=OneHotEncoder(drop='first',sparse=False)\n",
        "X_train_gender_city=ohe.fit_transform(X_train[['gender','city']])\n",
        "\n",
        "X_train_gender_city.shape"
      ],
      "metadata": {
        "colab": {
          "base_uri": "https://localhost:8080/"
        },
        "id": "dWmzSj0EbKZU",
        "outputId": "d87476e4-df6c-4e7f-dc6e-0ffee532a2d0"
      },
      "execution_count": 27,
      "outputs": [
        {
          "output_type": "stream",
          "name": "stderr",
          "text": [
            "/usr/local/lib/python3.10/dist-packages/sklearn/preprocessing/_encoders.py:975: FutureWarning: `sparse` was renamed to `sparse_output` in version 1.2 and will be removed in 1.4. `sparse_output` is ignored unless you leave `sparse` to its default value.\n",
            "  warnings.warn(\n"
          ]
        },
        {
          "output_type": "execute_result",
          "data": {
            "text/plain": [
              "(80, 4)"
            ]
          },
          "metadata": {},
          "execution_count": 27
        }
      ]
    },
    {
      "cell_type": "markdown",
      "source": [
        "we did one hot encoding on city and gender where we droped the first dummy column to avoid multicolinearity and thes we have gender = 1 and city = 3 that is 4 columns in total"
      ],
      "metadata": {
        "id": "Goc8Q8LdZop5"
      }
    },
    {
      "cell_type": "markdown",
      "source": [
        "EXTRACTING AGE"
      ],
      "metadata": {
        "id": "GDNfX4OTZ4CR"
      }
    },
    {
      "cell_type": "code",
      "source": [
        "X_train_age = X_train.drop(columns=['gender','fever','cough','city']).values\n",
        "X_test_age = X_test.drop(columns=['gender','fever','cough','city']).values\n",
        "X_train_age.shape"
      ],
      "metadata": {
        "colab": {
          "base_uri": "https://localhost:8080/"
        },
        "id": "GWIcxaqUZoW8",
        "outputId": "4d171061-719f-4079-80f1-5aa9c6a259c3"
      },
      "execution_count": 21,
      "outputs": [
        {
          "output_type": "execute_result",
          "data": {
            "text/plain": [
              "(80, 1)"
            ]
          },
          "metadata": {},
          "execution_count": 21
        }
      ]
    },
    {
      "cell_type": "code",
      "source": [
        "transformed=np.concatenate((X_train_age,X_train_fever,X_train_gender_city,X_train_cough),axis=1)\n",
        "\n",
        "transformed.shape"
      ],
      "metadata": {
        "colab": {
          "base_uri": "https://localhost:8080/"
        },
        "id": "Y6fEairVZftn",
        "outputId": "8ec9f061-71ba-4592-a399-96c824b6656e"
      },
      "execution_count": 25,
      "outputs": [
        {
          "output_type": "execute_result",
          "data": {
            "text/plain": [
              "(80, 7)"
            ]
          },
          "metadata": {},
          "execution_count": 25
        }
      ]
    },
    {
      "cell_type": "markdown",
      "source": [
        "# WITH COLUMN TRANSFORMER"
      ],
      "metadata": {
        "id": "TbL881xlbO4C"
      }
    },
    {
      "cell_type": "code",
      "source": [
        "from sklearn.compose import ColumnTransformer"
      ],
      "metadata": {
        "id": "6U5nyDO9bYFZ"
      },
      "execution_count": 28,
      "outputs": []
    },
    {
      "cell_type": "markdown",
      "source": [
        "creating the transformer\n"
      ],
      "metadata": {
        "id": "Hud5c8nDb9tN"
      }
    },
    {
      "cell_type": "code",
      "source": [
        "transformer=ColumnTransformer(transformers=[\n",
        "    ('tnf1',SimpleImputer(),['fever']),\n",
        "    ('tnf2',OrdinalEncoder(categories=[['Strong','Mild']],dtype=np.int32),['cough']),\n",
        "    ('tnf3',OneHotEncoder(sparse=False,drop='first'),['gender','city'])\n",
        "],remainder='passthrough')"
      ],
      "metadata": {
        "id": "BnNtFQPCcGbo"
      },
      "execution_count": 41,
      "outputs": []
    },
    {
      "cell_type": "code",
      "source": [
        "transformer.fit_transform(X_train)"
      ],
      "metadata": {
        "colab": {
          "base_uri": "https://localhost:8080/"
        },
        "collapsed": true,
        "id": "3RxYoTLBcvs_",
        "outputId": "70123bbf-83d8-43eb-9481-c261227d9615"
      },
      "execution_count": 45,
      "outputs": [
        {
          "output_type": "stream",
          "name": "stderr",
          "text": [
            "/usr/local/lib/python3.10/dist-packages/sklearn/preprocessing/_encoders.py:975: FutureWarning: `sparse` was renamed to `sparse_output` in version 1.2 and will be removed in 1.4. `sparse_output` is ignored unless you leave `sparse` to its default value.\n",
            "  warnings.warn(\n"
          ]
        },
        {
          "output_type": "execute_result",
          "data": {
            "text/plain": [
              "array([[ 99.        ,   1.        ,   1.        ,   0.        ,\n",
              "          0.        ,   0.        ,  72.        ],\n",
              "       [104.        ,   0.        ,   0.        ,   1.        ,\n",
              "          0.        ,   0.        ,  75.        ],\n",
              "       [100.        ,   0.        ,   0.        ,   0.        ,\n",
              "          1.        ,   0.        ,  13.        ],\n",
              "       [103.        ,   1.        ,   0.        ,   0.        ,\n",
              "          0.        ,   0.        ,  16.        ],\n",
              "       [102.        ,   0.        ,   0.        ,   0.        ,\n",
              "          0.        ,   0.        ,  82.        ],\n",
              "       [102.        ,   0.        ,   1.        ,   1.        ,\n",
              "          0.        ,   0.        ,  20.        ],\n",
              "       [100.        ,   1.        ,   1.        ,   0.        ,\n",
              "          1.        ,   0.        ,  27.        ],\n",
              "       [103.        ,   0.        ,   1.        ,   0.        ,\n",
              "          0.        ,   0.        ,  46.        ],\n",
              "       [ 99.        ,   1.        ,   0.        ,   0.        ,\n",
              "          0.        ,   1.        ,  14.        ],\n",
              "       [ 98.        ,   1.        ,   0.        ,   0.        ,\n",
              "          0.        ,   0.        ,  64.        ],\n",
              "       [103.        ,   1.        ,   0.        ,   0.        ,\n",
              "          1.        ,   0.        ,  48.        ],\n",
              "       [ 98.        ,   1.        ,   1.        ,   0.        ,\n",
              "          1.        ,   0.        ,  24.        ],\n",
              "       [ 98.        ,   0.        ,   1.        ,   0.        ,\n",
              "          1.        ,   0.        ,  34.        ],\n",
              "       [101.        ,   1.        ,   0.        ,   1.        ,\n",
              "          0.        ,   0.        ,  49.        ],\n",
              "       [101.        ,   1.        ,   0.        ,   0.        ,\n",
              "          0.        ,   1.        ,  65.        ],\n",
              "       [ 98.        ,   0.        ,   0.        ,   0.        ,\n",
              "          0.        ,   1.        ,   5.        ],\n",
              "       [100.        ,   1.        ,   1.        ,   0.        ,\n",
              "          0.        ,   0.        ,  80.        ],\n",
              "       [104.        ,   0.        ,   0.        ,   0.        ,\n",
              "          0.        ,   0.        ,  56.        ],\n",
              "       [104.        ,   1.        ,   0.        ,   0.        ,\n",
              "          1.        ,   0.        ,  17.        ],\n",
              "       [ 98.        ,   0.        ,   0.        ,   1.        ,\n",
              "          0.        ,   0.        ,  40.        ],\n",
              "       [101.        ,   0.        ,   1.        ,   0.        ,\n",
              "          0.        ,   0.        ,  14.        ],\n",
              "       [100.        ,   1.        ,   1.        ,   0.        ,\n",
              "          1.        ,   0.        ,  55.        ],\n",
              "       [ 99.        ,   0.        ,   0.        ,   0.        ,\n",
              "          1.        ,   0.        ,  25.        ],\n",
              "       [ 98.        ,   1.        ,   0.        ,   0.        ,\n",
              "          0.        ,   1.        ,  65.        ],\n",
              "       [101.        ,   0.        ,   0.        ,   1.        ,\n",
              "          0.        ,   0.        ,  68.        ],\n",
              "       [104.        ,   1.        ,   1.        ,   0.        ,\n",
              "          0.        ,   1.        ,  42.        ],\n",
              "       [104.        ,   0.        ,   0.        ,   1.        ,\n",
              "          0.        ,   0.        ,  34.        ],\n",
              "       [102.        ,   1.        ,   1.        ,   0.        ,\n",
              "          1.        ,   0.        ,   5.        ],\n",
              "       [100.        ,   1.        ,   1.        ,   1.        ,\n",
              "          0.        ,   0.        ,  27.        ],\n",
              "       [101.        ,   1.        ,   0.        ,   0.        ,\n",
              "          0.        ,   0.        ,  38.        ],\n",
              "       [100.95833333,   1.        ,   1.        ,   0.        ,\n",
              "          1.        ,   0.        ,  82.        ],\n",
              "       [ 99.        ,   0.        ,   0.        ,   1.        ,\n",
              "          0.        ,   0.        ,  59.        ],\n",
              "       [101.        ,   0.        ,   1.        ,   0.        ,\n",
              "          0.        ,   0.        ,  47.        ],\n",
              "       [104.        ,   1.        ,   1.        ,   0.        ,\n",
              "          0.        ,   0.        ,  25.        ],\n",
              "       [103.        ,   1.        ,   0.        ,   0.        ,\n",
              "          1.        ,   0.        ,  69.        ],\n",
              "       [100.95833333,   1.        ,   0.        ,   0.        ,\n",
              "          0.        ,   0.        ,  84.        ],\n",
              "       [100.95833333,   0.        ,   1.        ,   0.        ,\n",
              "          1.        ,   0.        ,  71.        ],\n",
              "       [100.95833333,   1.        ,   1.        ,   0.        ,\n",
              "          0.        ,   1.        ,  23.        ],\n",
              "       [101.        ,   1.        ,   0.        ,   0.        ,\n",
              "          1.        ,   0.        ,   8.        ],\n",
              "       [104.        ,   0.        ,   0.        ,   0.        ,\n",
              "          1.        ,   0.        ,  54.        ],\n",
              "       [ 98.        ,   1.        ,   1.        ,   0.        ,\n",
              "          0.        ,   0.        ,  73.        ],\n",
              "       [100.95833333,   0.        ,   1.        ,   0.        ,\n",
              "          1.        ,   0.        ,  79.        ],\n",
              "       [102.        ,   0.        ,   0.        ,   1.        ,\n",
              "          0.        ,   0.        ,  33.        ],\n",
              "       [104.        ,   1.        ,   0.        ,   0.        ,\n",
              "          0.        ,   0.        ,  18.        ],\n",
              "       [ 99.        ,   1.        ,   0.        ,   0.        ,\n",
              "          0.        ,   0.        ,  22.        ],\n",
              "       [103.        ,   1.        ,   0.        ,   1.        ,\n",
              "          0.        ,   0.        ,  73.        ],\n",
              "       [103.        ,   1.        ,   1.        ,   0.        ,\n",
              "          1.        ,   0.        ,  83.        ],\n",
              "       [ 98.        ,   0.        ,   0.        ,   0.        ,\n",
              "          1.        ,   0.        ,  10.        ],\n",
              "       [100.        ,   1.        ,   1.        ,   0.        ,\n",
              "          0.        ,   0.        ,  11.        ],\n",
              "       [102.        ,   1.        ,   1.        ,   0.        ,\n",
              "          0.        ,   0.        ,  64.        ],\n",
              "       [ 98.        ,   1.        ,   0.        ,   0.        ,\n",
              "          1.        ,   0.        ,  31.        ],\n",
              "       [101.        ,   1.        ,   1.        ,   1.        ,\n",
              "          0.        ,   0.        ,  19.        ],\n",
              "       [102.        ,   0.        ,   0.        ,   0.        ,\n",
              "          0.        ,   0.        ,  24.        ],\n",
              "       [ 99.        ,   1.        ,   0.        ,   0.        ,\n",
              "          0.        ,   1.        ,  60.        ],\n",
              "       [102.        ,   1.        ,   0.        ,   0.        ,\n",
              "          0.        ,   0.        ,  69.        ],\n",
              "       [100.95833333,   1.        ,   1.        ,   1.        ,\n",
              "          0.        ,   0.        ,  38.        ],\n",
              "       [103.        ,   1.        ,   1.        ,   0.        ,\n",
              "          1.        ,   0.        ,  60.        ],\n",
              "       [ 99.        ,   1.        ,   1.        ,   0.        ,\n",
              "          0.        ,   0.        ,  65.        ],\n",
              "       [100.95833333,   1.        ,   0.        ,   1.        ,\n",
              "          0.        ,   0.        ,  75.        ],\n",
              "       [100.        ,   1.        ,   0.        ,   0.        ,\n",
              "          1.        ,   0.        ,   5.        ],\n",
              "       [ 98.        ,   1.        ,   0.        ,   0.        ,\n",
              "          1.        ,   0.        ,  26.        ],\n",
              "       [100.95833333,   0.        ,   0.        ,   0.        ,\n",
              "          0.        ,   1.        ,  34.        ],\n",
              "       [104.        ,   1.        ,   1.        ,   0.        ,\n",
              "          1.        ,   0.        ,  51.        ],\n",
              "       [101.        ,   1.        ,   0.        ,   0.        ,\n",
              "          1.        ,   0.        ,  83.        ],\n",
              "       [100.        ,   1.        ,   0.        ,   0.        ,\n",
              "          1.        ,   0.        ,  19.        ],\n",
              "       [ 98.        ,   0.        ,   1.        ,   0.        ,\n",
              "          0.        ,   1.        ,  23.        ],\n",
              "       [104.        ,   1.        ,   0.        ,   0.        ,\n",
              "          1.        ,   0.        ,   6.        ],\n",
              "       [ 98.        ,   0.        ,   1.        ,   0.        ,\n",
              "          0.        ,   0.        ,  12.        ],\n",
              "       [104.        ,   1.        ,   1.        ,   0.        ,\n",
              "          0.        ,   1.        ,  44.        ],\n",
              "       [104.        ,   1.        ,   1.        ,   0.        ,\n",
              "          1.        ,   0.        ,  16.        ],\n",
              "       [100.        ,   0.        ,   0.        ,   0.        ,\n",
              "          1.        ,   0.        ,  11.        ],\n",
              "       [ 99.        ,   0.        ,   1.        ,   0.        ,\n",
              "          0.        ,   0.        ,  66.        ],\n",
              "       [104.        ,   1.        ,   1.        ,   0.        ,\n",
              "          0.        ,   0.        ,  51.        ],\n",
              "       [102.        ,   1.        ,   0.        ,   1.        ,\n",
              "          0.        ,   0.        ,  49.        ],\n",
              "       [101.        ,   0.        ,   0.        ,   0.        ,\n",
              "          1.        ,   0.        ,  51.        ],\n",
              "       [100.        ,   1.        ,   1.        ,   0.        ,\n",
              "          0.        ,   0.        ,  10.        ],\n",
              "       [104.        ,   1.        ,   0.        ,   0.        ,\n",
              "          0.        ,   0.        ,  12.        ],\n",
              "       [ 98.        ,   0.        ,   0.        ,   0.        ,\n",
              "          0.        ,   1.        ,  81.        ],\n",
              "       [ 98.        ,   0.        ,   0.        ,   0.        ,\n",
              "          1.        ,   0.        ,  71.        ],\n",
              "       [102.        ,   1.        ,   1.        ,   0.        ,\n",
              "          0.        ,   1.        ,  74.        ]])"
            ]
          },
          "metadata": {},
          "execution_count": 45
        }
      ]
    },
    {
      "cell_type": "code",
      "source": [
        "transformer.fit_transform(X_train).shape"
      ],
      "metadata": {
        "colab": {
          "base_uri": "https://localhost:8080/"
        },
        "id": "s0Acl0ZGc9ho",
        "outputId": "9c5857a2-7d43-444e-dd5e-c2251adb9e2b"
      },
      "execution_count": 46,
      "outputs": [
        {
          "output_type": "stream",
          "name": "stderr",
          "text": [
            "/usr/local/lib/python3.10/dist-packages/sklearn/preprocessing/_encoders.py:975: FutureWarning: `sparse` was renamed to `sparse_output` in version 1.2 and will be removed in 1.4. `sparse_output` is ignored unless you leave `sparse` to its default value.\n",
            "  warnings.warn(\n"
          ]
        },
        {
          "output_type": "execute_result",
          "data": {
            "text/plain": [
              "(80, 7)"
            ]
          },
          "metadata": {},
          "execution_count": 46
        }
      ]
    },
    {
      "cell_type": "code",
      "source": [
        "transformer.fit_transform(X_test).shape"
      ],
      "metadata": {
        "colab": {
          "base_uri": "https://localhost:8080/"
        },
        "id": "zA1FiZWCgx_R",
        "outputId": "1baf6014-700e-4c7b-d4fe-8399466bf87f"
      },
      "execution_count": 47,
      "outputs": [
        {
          "output_type": "stream",
          "name": "stderr",
          "text": [
            "/usr/local/lib/python3.10/dist-packages/sklearn/preprocessing/_encoders.py:975: FutureWarning: `sparse` was renamed to `sparse_output` in version 1.2 and will be removed in 1.4. `sparse_output` is ignored unless you leave `sparse` to its default value.\n",
            "  warnings.warn(\n"
          ]
        },
        {
          "output_type": "execute_result",
          "data": {
            "text/plain": [
              "(20, 7)"
            ]
          },
          "metadata": {},
          "execution_count": 47
        }
      ]
    },
    {
      "cell_type": "code",
      "source": [],
      "metadata": {
        "id": "gLnGBUUyg2Fx"
      },
      "execution_count": null,
      "outputs": []
    }
  ]
}